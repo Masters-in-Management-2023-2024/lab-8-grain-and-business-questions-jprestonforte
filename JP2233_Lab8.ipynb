{
  "cells": [
    {
      "cell_type": "markdown",
      "metadata": {
        "id": "wD3OsQ8v5Szn"
      },
      "source": [
        "# Diamond Company Analytics Challenge\n",
        "\n",
        "**Time:** 35 minutes\n",
        "\n",
        "**Scenario:** You are the new data analyst at a prestigious diamond company. The CEO has called an urgent meeting and needs answers to critical business questions about the inventory.\n",
        "\n",
        "**Your Mission:** Analyze the diamond inventory data and provide insights to guide strategic decisions."
      ]
    },
    {
      "cell_type": "code",
      "execution_count": null,
      "metadata": {
        "id": "OpZqKtTW5Szn",
        "colab": {
          "base_uri": "https://localhost:8080/"
        },
        "outputId": "f4038988-f460-481b-d026-cd0ebb52e7a6"
      },
      "outputs": [
        {
          "output_type": "stream",
          "name": "stdout",
          "text": [
            "Loading diamonds dataset...\n",
            "shape: (6_000, 8)\n",
            "┌──────────────┬─────────────────┬───────┬─────────┬────────┬──────────┬────────┬───────┐\n",
            "│ Carat Weight ┆ Cut             ┆ Color ┆ Clarity ┆ Polish ┆ Symmetry ┆ Report ┆ Price │\n",
            "│ ---          ┆ ---             ┆ ---   ┆ ---     ┆ ---    ┆ ---      ┆ ---    ┆ ---   │\n",
            "│ f64          ┆ str             ┆ str   ┆ str     ┆ str    ┆ str      ┆ str    ┆ i64   │\n",
            "╞══════════════╪═════════════════╪═══════╪═════════╪════════╪══════════╪════════╪═══════╡\n",
            "│ 1.1          ┆ Ideal           ┆ H     ┆ SI1     ┆ VG     ┆ EX       ┆ GIA    ┆ 5169  │\n",
            "│ 0.83         ┆ Ideal           ┆ H     ┆ VS1     ┆ ID     ┆ ID       ┆ AGSL   ┆ 3470  │\n",
            "│ 0.85         ┆ Ideal           ┆ H     ┆ SI1     ┆ EX     ┆ EX       ┆ GIA    ┆ 3183  │\n",
            "│ 0.91         ┆ Ideal           ┆ E     ┆ SI1     ┆ VG     ┆ VG       ┆ GIA    ┆ 4370  │\n",
            "│ 0.83         ┆ Ideal           ┆ G     ┆ SI1     ┆ EX     ┆ EX       ┆ GIA    ┆ 3171  │\n",
            "│ …            ┆ …               ┆ …     ┆ …       ┆ …      ┆ …        ┆ …      ┆ …     │\n",
            "│ 1.03         ┆ Ideal           ┆ D     ┆ SI1     ┆ EX     ┆ EX       ┆ GIA    ┆ 6250  │\n",
            "│ 1.0          ┆ Very Good       ┆ D     ┆ SI1     ┆ VG     ┆ VG       ┆ GIA    ┆ 5328  │\n",
            "│ 1.02         ┆ Ideal           ┆ D     ┆ SI1     ┆ EX     ┆ EX       ┆ GIA    ┆ 6157  │\n",
            "│ 1.27         ┆ Signature-Ideal ┆ G     ┆ VS1     ┆ EX     ┆ EX       ┆ GIA    ┆ 11206 │\n",
            "│ 2.19         ┆ Ideal           ┆ E     ┆ VS1     ┆ EX     ┆ EX       ┆ GIA    ┆ 30507 │\n",
            "└──────────────┴─────────────────┴───────┴─────────┴────────┴──────────┴────────┴───────┘\n",
            "Dataset loaded successfully!\n"
          ]
        }
      ],
      "source": [
        "import polars as pl\n",
        "\n",
        "# Load the diamonds dataset\n",
        "print(\"Loading diamonds dataset...\")\n",
        "df = pl.read_csv('https://raw.githubusercontent.com/pycaret/pycaret/master/datasets/diamond.csv')\n",
        "print(pl.read_csv('https://raw.githubusercontent.com/pycaret/pycaret/master/datasets/diamond.csv'))\n",
        "print(\"Dataset loaded successfully!\")"
      ]
    },
    {
      "cell_type": "markdown",
      "metadata": {
        "id": "hTLhOqQ05Szo"
      },
      "source": [
        "## Section 1: Initial Inventory Assessment (5 minutes)\n",
        "\n",
        "The CEO walks in: \"Before we dive into specifics, I need to understand what we're working with. Give me the basics about our inventory database.\""
      ]
    },
    {
      "cell_type": "markdown",
      "metadata": {
        "id": "9NnqNErq5Szo"
      },
      "source": [
        "### Question 1: \"How extensive is our inventory database?\"\n",
        "\n",
        "The CEO needs to know the scale of data you're analyzing."
      ]
    },
    {
      "cell_type": "code",
      "execution_count": null,
      "metadata": {
        "id": "nYPtFotN5Szo",
        "outputId": "b1cf4682-bde2-4a4f-c94f-08ff634fbdc4",
        "colab": {
          "base_uri": "https://localhost:8080/"
        }
      },
      "outputs": [
        {
          "output_type": "stream",
          "name": "stdout",
          "text": [
            "Total number of rows: 6000\n",
            "Total number of columns: 8\n"
          ]
        }
      ],
      "source": [
        "# Your code here: HOW MANY ROWS AND COLUMNS\n",
        "\n",
        "import polars as pl\n",
        "\n",
        "df = pl.read_csv('https://raw.githubusercontent.com/pycaret/pycaret/master/datasets/diamond.csv')\n",
        "\n",
        "num_columns=len(df.columns)\n",
        "\n",
        "print(f\"Total number of rows: {len(df)}\")\n",
        "print(f\"Total number of columns: {num_columns}\")\n"
      ]
    },
    {
      "cell_type": "markdown",
      "metadata": {
        "id": "Dmg7edd15Szo"
      },
      "source": [
        "### Question 2: \"What information do we track about each diamond?\"\n",
        "\n",
        "List all the characteristics we record."
      ]
    },
    {
      "cell_type": "code",
      "execution_count": null,
      "metadata": {
        "id": "UeQeQJRZ5Szo",
        "colab": {
          "base_uri": "https://localhost:8080/"
        },
        "outputId": "22325e8c-445b-4fac-fc8c-7f3973a6caa5"
      },
      "outputs": [
        {
          "output_type": "stream",
          "name": "stdout",
          "text": [
            "Shape: (6000, 8)\n",
            "Columns: ['Carat Weight', 'Cut', 'Color', 'Clarity', 'Polish', 'Symmetry', 'Report', 'Price']\n"
          ]
        }
      ],
      "source": [
        "# Your code here:\n",
        "\n",
        "import polars as pl\n",
        "\n",
        "df = pl.read_csv('https://raw.githubusercontent.com/pycaret/pycaret/master/datasets/diamond.csv')\n",
        "\n",
        "\n",
        "print(f\"Shape: {df.shape}\")\n",
        "print(f\"Columns: {df.columns}\")"
      ]
    },
    {
      "cell_type": "markdown",
      "metadata": {
        "id": "UPHzYpYS5Szo"
      },
      "source": [
        "### Question 3: \"When I look at one line in this database, what am I looking at?\"\n",
        "\n",
        "Explain in business terms:"
      ]
    },
    {
      "cell_type": "markdown",
      "metadata": {
        "id": "yjfctAx45Szo"
      },
      "source": [
        "**Your answer:** Each row represents: Each row represents the physical characteristics and value of an individual diamond."
      ]
    },
    {
      "cell_type": "markdown",
      "metadata": {
        "id": "uGM5dfoD5Szo"
      },
      "source": [
        "## Section 2: Strategic Business Questions (20 minutes)\n",
        "\n",
        "The CEO continues: \"Now let's get to the important questions. Our board meeting is tomorrow and I need concrete numbers.\""
      ]
    },
    {
      "cell_type": "markdown",
      "metadata": {
        "id": "4zTX5cYL5Szo"
      },
      "source": [
        "### Question 4: \"We're considering expanding our storage facilities. How many total carats do we have in inventory? I need to know if our vaults can handle the weight.\"\n",
        "\n",
        "Think about what measurement would help answer this."
      ]
    },
    {
      "cell_type": "code",
      "execution_count": null,
      "metadata": {
        "id": "blatFvEV5Szo",
        "colab": {
          "base_uri": "https://localhost:8080/"
        },
        "outputId": "23a8f95b-8a07-417c-ab35-5df095abe560"
      },
      "outputs": [
        {
          "output_type": "stream",
          "name": "stdout",
          "text": [
            "Total carats in inventory: 8007.12\n"
          ]
        }
      ],
      "source": [
        "# Your code here:\n",
        "\n",
        "import polars as pl\n",
        "\n",
        "df = pl.read_csv('https://raw.githubusercontent.com/pycaret/pycaret/master/datasets/diamond.csv')\n",
        "\n",
        "total_carats = df.select(pl.col(\"Carat Weight\").sum()).item()\n",
        "\n",
        "total_carats = df[\"Carat Weight\"].sum()\n",
        "\n",
        "print(f\"Total carats in inventory: {total_carats:.2f}\")\n"
      ]
    },
    {
      "cell_type": "markdown",
      "metadata": {
        "id": "6A6_3t6_5Szo"
      },
      "source": [
        "### Question 5: \"Our new marketing campaign claims we have 'the widest variety of cuts in the industry.' Can you verify this?\"\n",
        "\n",
        "The CEO wants to know about variety, not quantity."
      ]
    },
    {
      "cell_type": "code",
      "execution_count": null,
      "metadata": {
        "id": "omTAGL675Szo",
        "colab": {
          "base_uri": "https://localhost:8080/"
        },
        "outputId": "a893a2ae-008b-4cce-e193-7fc25d9a5f51"
      },
      "outputs": [
        {
          "output_type": "stream",
          "name": "stdout",
          "text": [
            "Number of diamonds cuts available: 3\n"
          ]
        }
      ],
      "source": [
        "# Your code here:\n",
        "\n",
        "import polars as pl\n",
        "\n",
        "df = pl.read_csv('https://raw.githubusercontent.com/pycaret/pycaret/master/datasets/diamond.csv')\n",
        "\n",
        "count = len(\"Cut\")\n",
        "print(f\"Number of diamonds cuts available: {count}\")\n",
        "\n"
      ]
    },
    {
      "cell_type": "code",
      "source": [
        "# Question 5 continued\n",
        "\n",
        "cut_counts = df.group_by(pl.col(\"Cut\")).agg(pl.col(\"Cut\").count().alias(\"count\")).sort(\"count\", descending=True)\n",
        "cut_counts"
      ],
      "metadata": {
        "colab": {
          "base_uri": "https://localhost:8080/",
          "height": 255
        },
        "id": "tY3njLE5cEmc",
        "outputId": "5b0e4348-8826-4ff4-c063-cdf2696a83df"
      },
      "execution_count": null,
      "outputs": [
        {
          "output_type": "execute_result",
          "data": {
            "text/plain": [
              "shape: (5, 2)\n",
              "┌─────────────────┬───────┐\n",
              "│ Cut             ┆ count │\n",
              "│ ---             ┆ ---   │\n",
              "│ str             ┆ u32   │\n",
              "╞═════════════════╪═══════╡\n",
              "│ Ideal           ┆ 2482  │\n",
              "│ Very Good       ┆ 2428  │\n",
              "│ Good            ┆ 708   │\n",
              "│ Signature-Ideal ┆ 253   │\n",
              "│ Fair            ┆ 129   │\n",
              "└─────────────────┴───────┘"
            ],
            "text/html": [
              "<div><style>\n",
              ".dataframe > thead > tr,\n",
              ".dataframe > tbody > tr {\n",
              "  text-align: right;\n",
              "  white-space: pre-wrap;\n",
              "}\n",
              "</style>\n",
              "<small>shape: (5, 2)</small><table border=\"1\" class=\"dataframe\"><thead><tr><th>Cut</th><th>count</th></tr><tr><td>str</td><td>u32</td></tr></thead><tbody><tr><td>&quot;Ideal&quot;</td><td>2482</td></tr><tr><td>&quot;Very Good&quot;</td><td>2428</td></tr><tr><td>&quot;Good&quot;</td><td>708</td></tr><tr><td>&quot;Signature-Ideal&quot;</td><td>253</td></tr><tr><td>&quot;Fair&quot;</td><td>129</td></tr></tbody></table></div>"
            ]
          },
          "metadata": {},
          "execution_count": 23
        }
      ]
    },
    {
      "cell_type": "markdown",
      "metadata": {
        "id": "_UaMDueJ5Szo"
      },
      "source": [
        "### Question 6: \"I'm meeting with our insurance company. They need to know our price exposure - what's our most and least valuable diamond?\""
      ]
    },
    {
      "cell_type": "code",
      "execution_count": null,
      "metadata": {
        "id": "Y_Sei1TB5Szo",
        "colab": {
          "base_uri": "https://localhost:8080/"
        },
        "outputId": "1795bb21-1f20-48a3-d299-f329a2292f1a"
      },
      "outputs": [
        {
          "output_type": "stream",
          "name": "stdout",
          "text": [
            "Most valuable diamond:\n",
            "shape: (1, 8)\n",
            "┌──────────────┬───────┬───────┬─────────┬────────┬──────────┬────────┬────────┐\n",
            "│ Carat Weight ┆ Cut   ┆ Color ┆ Clarity ┆ Polish ┆ Symmetry ┆ Report ┆ Price  │\n",
            "│ ---          ┆ ---   ┆ ---   ┆ ---     ┆ ---    ┆ ---      ┆ ---    ┆ ---    │\n",
            "│ f64          ┆ str   ┆ str   ┆ str     ┆ str    ┆ str      ┆ str    ┆ i64    │\n",
            "╞══════════════╪═══════╪═══════╪═════════╪════════╪══════════╪════════╪════════╡\n",
            "│ 2.79         ┆ Ideal ┆ D     ┆ IF      ┆ EX     ┆ EX       ┆ GIA    ┆ 101561 │\n",
            "└──────────────┴───────┴───────┴─────────┴────────┴──────────┴────────┴────────┘\n",
            "\n",
            "Least valuable diamond:\n",
            "shape: (1, 8)\n",
            "┌──────────────┬──────┬───────┬─────────┬────────┬──────────┬────────┬───────┐\n",
            "│ Carat Weight ┆ Cut  ┆ Color ┆ Clarity ┆ Polish ┆ Symmetry ┆ Report ┆ Price │\n",
            "│ ---          ┆ ---  ┆ ---   ┆ ---     ┆ ---    ┆ ---      ┆ ---    ┆ ---   │\n",
            "│ f64          ┆ str  ┆ str   ┆ str     ┆ str    ┆ str      ┆ str    ┆ i64   │\n",
            "╞══════════════╪══════╪═══════╪═════════╪════════╪══════════╪════════╪═══════╡\n",
            "│ 0.77         ┆ Good ┆ I     ┆ VS1     ┆ VG     ┆ G        ┆ AGSL   ┆ 2184  │\n",
            "└──────────────┴──────┴───────┴─────────┴────────┴──────────┴────────┴───────┘\n"
          ]
        }
      ],
      "source": [
        "# Your code here:\n",
        "import polars as pl\n",
        "\n",
        "df = pl.read_csv('https://raw.githubusercontent.com/pycaret/pycaret/master/datasets/diamond.csv')\n",
        "\n",
        "max_price_diamond = df.sort(\"Price\", descending=True).head(1)\n",
        "min_price_diamond = df.sort(\"Price\").head(1)\n",
        "\n",
        "print(\"Most valuable diamond:\")\n",
        "print(max_price_diamond)\n",
        "\n",
        "print(\"\\nLeast valuable diamond:\")\n",
        "print(min_price_diamond)"
      ]
    },
    {
      "cell_type": "markdown",
      "metadata": {
        "id": "9oQ1mUM35Szo"
      },
      "source": [
        "### Question 7: \"Which color grades should we focus on in our premium line? I need typical prices across our color spectrum.\"\n",
        "\n",
        "The CEO wants to understand pricing patterns."
      ]
    },
    {
      "cell_type": "code",
      "execution_count": null,
      "metadata": {
        "id": "3fdShPPO5Szo",
        "colab": {
          "base_uri": "https://localhost:8080/",
          "height": 322
        },
        "outputId": "c5eb1be1-3a3d-4164-bcd3-c24c86beb13c"
      },
      "outputs": [
        {
          "output_type": "stream",
          "name": "stdout",
          "text": [
            "Number of unique color options: 6\n",
            "Number of rows: 6\n"
          ]
        },
        {
          "output_type": "execute_result",
          "data": {
            "text/plain": [
              "shape: (6, 3)\n",
              "┌───────┬──────────────┬───────┐\n",
              "│ Color ┆ avg_price    ┆ count │\n",
              "│ ---   ┆ ---          ┆ ---   │\n",
              "│ str   ┆ f64          ┆ u32   │\n",
              "╞═══════╪══════════════╪═══════╡\n",
              "│ D     ┆ 15255.783661 ┆ 661   │\n",
              "│ F     ┆ 12712.241856 ┆ 1013  │\n",
              "│ G     ┆ 12520.050633 ┆ 1501  │\n",
              "│ E     ┆ 11539.190231 ┆ 778   │\n",
              "│ H     ┆ 10487.347544 ┆ 1079  │\n",
              "│ I     ┆ 8989.636364  ┆ 968   │\n",
              "└───────┴──────────────┴───────┘"
            ],
            "text/html": [
              "<div><style>\n",
              ".dataframe > thead > tr,\n",
              ".dataframe > tbody > tr {\n",
              "  text-align: right;\n",
              "  white-space: pre-wrap;\n",
              "}\n",
              "</style>\n",
              "<small>shape: (6, 3)</small><table border=\"1\" class=\"dataframe\"><thead><tr><th>Color</th><th>avg_price</th><th>count</th></tr><tr><td>str</td><td>f64</td><td>u32</td></tr></thead><tbody><tr><td>&quot;D&quot;</td><td>15255.783661</td><td>661</td></tr><tr><td>&quot;F&quot;</td><td>12712.241856</td><td>1013</td></tr><tr><td>&quot;G&quot;</td><td>12520.050633</td><td>1501</td></tr><tr><td>&quot;E&quot;</td><td>11539.190231</td><td>778</td></tr><tr><td>&quot;H&quot;</td><td>10487.347544</td><td>1079</td></tr><tr><td>&quot;I&quot;</td><td>8989.636364</td><td>968</td></tr></tbody></table></div>"
            ]
          },
          "metadata": {},
          "execution_count": 18
        }
      ],
      "source": [
        "# Your code here:\n",
        "\n",
        "import polars as pl\n",
        "\n",
        "df = pl.read_csv('https://raw.githubusercontent.com/pycaret/pycaret/master/datasets/diamond.csv')\n",
        "\n",
        "unique_count = df.select(pl.col(\"Color\").n_unique()).item()\n",
        "print(f\"Number of unique color options: {unique_count}\")\n",
        "\n",
        "result = df.group_by(\"Color\").agg(\n",
        "    pl.col(\"Price\").mean().alias(\"avg_price\"),\n",
        "    pl.len().alias(\"count\")\n",
        ").sort(\"avg_price\", descending=True)\n",
        "\n",
        "print(f\"Number of rows: {len(result)}\")\n",
        "result\n"
      ]
    },
    {
      "cell_type": "markdown",
      "metadata": {
        "id": "5BKwoXsu5Szo"
      },
      "source": [
        "**Reflection:** After analyzing by color, how has your view of the data changed? What does each row in your result represent now?"
      ]
    },
    {
      "cell_type": "markdown",
      "metadata": {
        "id": "B35-1QVA5Szo"
      },
      "source": [
        "**Your answer:** New grain = Each row represents the average price of the diamond by color variety and how many of each color variety there are."
      ]
    },
    {
      "cell_type": "markdown",
      "metadata": {
        "id": "aoIkYPOk5Szo"
      },
      "source": [
        "## Section 3: Advanced Strategic Analysis (10 minutes)\n",
        "\n",
        "The CEO leans forward: \"These next questions will shape our strategy for next year.\""
      ]
    },
    {
      "cell_type": "markdown",
      "metadata": {
        "id": "3dgx-shG5Szo"
      },
      "source": [
        "### Question 8: \"We're thinking of specializing in certain clarity grades. For our investor deck, I need a complete breakdown showing: how many diamonds we have in each clarity grade, their typical price, and the total carats we're holding for each grade.\""
      ]
    },
    {
      "cell_type": "code",
      "execution_count": null,
      "metadata": {
        "id": "66hKPGP95Szo",
        "colab": {
          "base_uri": "https://localhost:8080/",
          "height": 353
        },
        "outputId": "bf11b1f3-9215-4f81-e24c-386335b57685"
      },
      "outputs": [
        {
          "output_type": "stream",
          "name": "stdout",
          "text": [
            "Number of unique clarity options: 7\n",
            "Number of rows: 7\n"
          ]
        },
        {
          "output_type": "execute_result",
          "data": {
            "text/plain": [
              "shape: (7, 4)\n",
              "┌─────────┬──────────────┬──────────────────┬───────┐\n",
              "│ Clarity ┆ avg_price    ┆ avg_carat_weight ┆ count │\n",
              "│ ---     ┆ ---          ┆ ---              ┆ ---   │\n",
              "│ str     ┆ f64          ┆ f64              ┆ u32   │\n",
              "╞═════════╪══════════════╪══════════════════╪═══════╡\n",
              "│ FL      ┆ 63776.0      ┆ 1.9675           ┆ 4     │\n",
              "│ IF      ┆ 22105.844749 ┆ 1.442922         ┆ 219   │\n",
              "│ VVS1    ┆ 16845.680702 ┆ 1.366421         ┆ 285   │\n",
              "│ VVS2    ┆ 14142.177177 ┆ 1.316186         ┆ 666   │\n",
              "│ VS1     ┆ 13694.113255 ┆ 1.411695         ┆ 1192  │\n",
              "│ VS2     ┆ 11809.053333 ┆ 1.378292         ┆ 1575  │\n",
              "│ SI1     ┆ 8018.864012  ┆ 1.245114         ┆ 2059  │\n",
              "└─────────┴──────────────┴──────────────────┴───────┘"
            ],
            "text/html": [
              "<div><style>\n",
              ".dataframe > thead > tr,\n",
              ".dataframe > tbody > tr {\n",
              "  text-align: right;\n",
              "  white-space: pre-wrap;\n",
              "}\n",
              "</style>\n",
              "<small>shape: (7, 4)</small><table border=\"1\" class=\"dataframe\"><thead><tr><th>Clarity</th><th>avg_price</th><th>avg_carat_weight</th><th>count</th></tr><tr><td>str</td><td>f64</td><td>f64</td><td>u32</td></tr></thead><tbody><tr><td>&quot;FL&quot;</td><td>63776.0</td><td>1.9675</td><td>4</td></tr><tr><td>&quot;IF&quot;</td><td>22105.844749</td><td>1.442922</td><td>219</td></tr><tr><td>&quot;VVS1&quot;</td><td>16845.680702</td><td>1.366421</td><td>285</td></tr><tr><td>&quot;VVS2&quot;</td><td>14142.177177</td><td>1.316186</td><td>666</td></tr><tr><td>&quot;VS1&quot;</td><td>13694.113255</td><td>1.411695</td><td>1192</td></tr><tr><td>&quot;VS2&quot;</td><td>11809.053333</td><td>1.378292</td><td>1575</td></tr><tr><td>&quot;SI1&quot;</td><td>8018.864012</td><td>1.245114</td><td>2059</td></tr></tbody></table></div>"
            ]
          },
          "metadata": {},
          "execution_count": 27
        }
      ],
      "source": [
        "# Your code here:\n",
        "\n",
        "import polars as pl\n",
        "\n",
        "df = pl.read_csv('https://raw.githubusercontent.com/pycaret/pycaret/master/datasets/diamond.csv')\n",
        "\n",
        "unique_count = df.select(pl.col(\"Clarity\").n_unique()).item()\n",
        "print(f\"Number of unique clarity options: {unique_count}\")\n",
        "\n",
        "result = df.group_by(\"Clarity\").agg(\n",
        "    pl.col(\"Price\").mean().alias(\"avg_price\"),\n",
        "    pl.col(\"Carat Weight\").mean().alias(\"avg_carat_weight\"),\n",
        "    pl.len().alias(\"count\")\n",
        ").sort(\"avg_price\", descending=True)\n",
        "\n",
        "print(f\"Number of rows: {len(result)}\")\n",
        "result\n",
        "\n",
        "\n"
      ]
    },
    {
      "cell_type": "markdown",
      "metadata": {
        "id": "I2Yy4r1Q5Szo"
      },
      "source": [
        "### Question 9: \"My luxury competitor claims they have the best prices for every cut-color combination. Show me our pricing structure across these combinations - I want to see where we're competitive.\""
      ]
    },
    {
      "cell_type": "code",
      "source": [
        "# Your code here:\n",
        "\n",
        "cut_result = df.group_by(\"Cut\").agg(\n",
        "    pl.col(\"Price\").mean().alias(\"avg_price_by_cut\"),\n",
        "    pl.len().alias(\"count\")\n",
        ").sort(\"avg_price_by_cut\", descending=True)\n",
        "\n",
        "\n",
        "print(\"avg_price_by_cut:\")\n",
        "cut_result\n",
        "\n"
      ],
      "metadata": {
        "colab": {
          "base_uri": "https://localhost:8080/",
          "height": 291
        },
        "id": "g0OEEkDmaWMs",
        "outputId": "01f25b2f-dd94-4026-9ed3-e11870f77ad2"
      },
      "execution_count": null,
      "outputs": [
        {
          "output_type": "stream",
          "name": "stdout",
          "text": [
            "avg_price_by_color:\n",
            "avg_price_by_cut:\n"
          ]
        },
        {
          "output_type": "execute_result",
          "data": {
            "text/plain": [
              "shape: (5, 3)\n",
              "┌─────────────────┬──────────────────┬───────┐\n",
              "│ Cut             ┆ avg_price_by_cut ┆ count │\n",
              "│ ---             ┆ ---              ┆ ---   │\n",
              "│ str             ┆ f64              ┆ u32   │\n",
              "╞═════════════════╪══════════════════╪═══════╡\n",
              "│ Ideal           ┆ 13127.331185     ┆ 2482  │\n",
              "│ Signature-Ideal ┆ 11541.525692     ┆ 253   │\n",
              "│ Very Good       ┆ 11484.69687      ┆ 2428  │\n",
              "│ Good            ┆ 9326.65678       ┆ 708   │\n",
              "│ Fair            ┆ 5886.178295      ┆ 129   │\n",
              "└─────────────────┴──────────────────┴───────┘"
            ],
            "text/html": [
              "<div><style>\n",
              ".dataframe > thead > tr,\n",
              ".dataframe > tbody > tr {\n",
              "  text-align: right;\n",
              "  white-space: pre-wrap;\n",
              "}\n",
              "</style>\n",
              "<small>shape: (5, 3)</small><table border=\"1\" class=\"dataframe\"><thead><tr><th>Cut</th><th>avg_price_by_cut</th><th>count</th></tr><tr><td>str</td><td>f64</td><td>u32</td></tr></thead><tbody><tr><td>&quot;Ideal&quot;</td><td>13127.331185</td><td>2482</td></tr><tr><td>&quot;Signature-Ideal&quot;</td><td>11541.525692</td><td>253</td></tr><tr><td>&quot;Very Good&quot;</td><td>11484.69687</td><td>2428</td></tr><tr><td>&quot;Good&quot;</td><td>9326.65678</td><td>708</td></tr><tr><td>&quot;Fair&quot;</td><td>5886.178295</td><td>129</td></tr></tbody></table></div>"
            ]
          },
          "metadata": {},
          "execution_count": 19
        }
      ]
    },
    {
      "cell_type": "code",
      "source": [
        "# Question 9 Continued\n",
        "\n",
        "color_result=df.group_by(\"Color\").agg(\n",
        "    pl.col(\"Price\").mean().alias(\"avg_price_by_color\"),\n",
        "    pl.len().alias(\"count\")\n",
        ").sort(\"avg_price_by_color\", descending=True)\n",
        "\n",
        "\n",
        "print(\"avg_price_by_color:\")\n",
        "color_result"
      ],
      "metadata": {
        "colab": {
          "base_uri": "https://localhost:8080/",
          "height": 304
        },
        "id": "wmKunuyQbHsD",
        "outputId": "97e2f92e-8c8d-4133-c7b1-58d2a3823d69"
      },
      "execution_count": null,
      "outputs": [
        {
          "output_type": "stream",
          "name": "stdout",
          "text": [
            "avg_price_by_color:\n"
          ]
        },
        {
          "output_type": "execute_result",
          "data": {
            "text/plain": [
              "shape: (6, 3)\n",
              "┌───────┬────────────────────┬───────┐\n",
              "│ Color ┆ avg_price_by_color ┆ count │\n",
              "│ ---   ┆ ---                ┆ ---   │\n",
              "│ str   ┆ f64                ┆ u32   │\n",
              "╞═══════╪════════════════════╪═══════╡\n",
              "│ D     ┆ 15255.783661       ┆ 661   │\n",
              "│ F     ┆ 12712.241856       ┆ 1013  │\n",
              "│ G     ┆ 12520.050633       ┆ 1501  │\n",
              "│ E     ┆ 11539.190231       ┆ 778   │\n",
              "│ H     ┆ 10487.347544       ┆ 1079  │\n",
              "│ I     ┆ 8989.636364        ┆ 968   │\n",
              "└───────┴────────────────────┴───────┘"
            ],
            "text/html": [
              "<div><style>\n",
              ".dataframe > thead > tr,\n",
              ".dataframe > tbody > tr {\n",
              "  text-align: right;\n",
              "  white-space: pre-wrap;\n",
              "}\n",
              "</style>\n",
              "<small>shape: (6, 3)</small><table border=\"1\" class=\"dataframe\"><thead><tr><th>Color</th><th>avg_price_by_color</th><th>count</th></tr><tr><td>str</td><td>f64</td><td>u32</td></tr></thead><tbody><tr><td>&quot;D&quot;</td><td>15255.783661</td><td>661</td></tr><tr><td>&quot;F&quot;</td><td>12712.241856</td><td>1013</td></tr><tr><td>&quot;G&quot;</td><td>12520.050633</td><td>1501</td></tr><tr><td>&quot;E&quot;</td><td>11539.190231</td><td>778</td></tr><tr><td>&quot;H&quot;</td><td>10487.347544</td><td>1079</td></tr><tr><td>&quot;I&quot;</td><td>8989.636364</td><td>968</td></tr></tbody></table></div>"
            ]
          },
          "metadata": {},
          "execution_count": 20
        }
      ]
    },
    {
      "cell_type": "markdown",
      "metadata": {
        "id": "CfdIvyH_5Szo"
      },
      "source": [
        "**Reflection:** How specific is your analysis now? What level of detail does each row represent?"
      ]
    },
    {
      "cell_type": "markdown",
      "metadata": {
        "id": "xxwT2fgh5Szo"
      },
      "source": [
        "**Your answer:** New grain = Each row represents a physical characteristic of the diamonds with the average price per characteristic and the quantity."
      ]
    },
    {
      "cell_type": "markdown",
      "metadata": {
        "id": "gKxeFF7i5Szp"
      },
      "source": [
        "### Question 10: URGENT - \"Our biggest client is interested in purchasing entire inventory segments. They asked: 'Which color-cut combinations represent your highest total inventory value?' Show me the top 5 most valuable inventory segments by total worth, and include how many diamonds are in each segment.\"\n",
        "\n",
        "This is critical for tomorrow's negotiation."
      ]
    },
    {
      "cell_type": "code",
      "execution_count": null,
      "metadata": {
        "id": "w56Pz_Gm5Szp",
        "colab": {
          "base_uri": "https://localhost:8080/",
          "height": 304
        },
        "outputId": "42f53ab1-97d3-45e3-fcdc-5e8c37703723"
      },
      "outputs": [
        {
          "output_type": "stream",
          "name": "stdout",
          "text": [
            "Grain has changed to: one color per row\n"
          ]
        },
        {
          "output_type": "execute_result",
          "data": {
            "text/plain": [
              "shape: (6, 4)\n",
              "┌───────┬───────────┬──────────────────┬────────────────────┐\n",
              "│ Color ┆ max_price ┆ max_carat_weight ┆ number_of_diamonds │\n",
              "│ ---   ┆ ---       ┆ ---              ┆ ---                │\n",
              "│ str   ┆ i64       ┆ f64              ┆ u32                │\n",
              "╞═══════╪═══════════╪══════════════════╪════════════════════╡\n",
              "│ D     ┆ 101561    ┆ 2.81             ┆ 661                │\n",
              "│ E     ┆ 67240     ┆ 2.8              ┆ 778                │\n",
              "│ F     ┆ 60188     ┆ 2.79             ┆ 1013               │\n",
              "│ G     ┆ 46861     ┆ 2.78             ┆ 1501               │\n",
              "│ H     ┆ 36709     ┆ 2.82             ┆ 1079               │\n",
              "│ I     ┆ 31254     ┆ 2.91             ┆ 968                │\n",
              "└───────┴───────────┴──────────────────┴────────────────────┘"
            ],
            "text/html": [
              "<div><style>\n",
              ".dataframe > thead > tr,\n",
              ".dataframe > tbody > tr {\n",
              "  text-align: right;\n",
              "  white-space: pre-wrap;\n",
              "}\n",
              "</style>\n",
              "<small>shape: (6, 4)</small><table border=\"1\" class=\"dataframe\"><thead><tr><th>Color</th><th>max_price</th><th>max_carat_weight</th><th>number_of_diamonds</th></tr><tr><td>str</td><td>i64</td><td>f64</td><td>u32</td></tr></thead><tbody><tr><td>&quot;D&quot;</td><td>101561</td><td>2.81</td><td>661</td></tr><tr><td>&quot;E&quot;</td><td>67240</td><td>2.8</td><td>778</td></tr><tr><td>&quot;F&quot;</td><td>60188</td><td>2.79</td><td>1013</td></tr><tr><td>&quot;G&quot;</td><td>46861</td><td>2.78</td><td>1501</td></tr><tr><td>&quot;H&quot;</td><td>36709</td><td>2.82</td><td>1079</td></tr><tr><td>&quot;I&quot;</td><td>31254</td><td>2.91</td><td>968</td></tr></tbody></table></div>"
            ]
          },
          "metadata": {},
          "execution_count": 32
        }
      ],
      "source": [
        "# Your code here:\n",
        "\n",
        "import polars as pl\n",
        "\n",
        "df = pl.read_csv('https://raw.githubusercontent.com/pycaret/pycaret/master/datasets/diamond.csv')\n",
        "\n",
        "result2 = df.group_by(\"Color\").agg(\n",
        "    pl.col(\"Price\").max().alias(\"max_price\"),\n",
        "    pl.col(\"Carat Weight\").max().alias(\"max_carat_weight\"),\n",
        "    pl.len().alias(\"number_of_diamonds\")\n",
        ").sort(\"Color\")\n",
        "\n",
        "print(\"Grain has changed to: one color per row\")\n",
        "result2"
      ]
    },
    {
      "cell_type": "markdown",
      "metadata": {
        "id": "-_OWxuFY5Szp"
      },
      "source": [
        "## Debrief\n",
        "\n",
        "Congratulations! You've just completed your first day as the diamond company's data analyst.\n",
        "\n",
        "Remember:\n",
        "- CEOs speak in business language, not technical terms\n",
        "- Always understand what each row represents before analyzing\n",
        "- Business questions contain clues about which operations to use"
      ]
    }
  ],
  "metadata": {
    "kernelspec": {
      "display_name": "Python 3",
      "language": "python",
      "name": "python3"
    },
    "language_info": {
      "codemirror_mode": {
        "name": "ipython",
        "version": 3
      },
      "file_extension": ".py",
      "mimetype": "text/x-python",
      "name": "python",
      "nbconvert_exporter": "python",
      "pygments_lexer": "ipython3",
      "version": "3.12.0"
    },
    "colab": {
      "provenance": []
    }
  },
  "nbformat": 4,
  "nbformat_minor": 0
}